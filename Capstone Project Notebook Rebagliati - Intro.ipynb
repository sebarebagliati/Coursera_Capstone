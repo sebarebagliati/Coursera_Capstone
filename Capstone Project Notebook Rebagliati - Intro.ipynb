{
 "cells": [
  {
   "cell_type": "markdown",
   "metadata": {},
   "source": [
    "# IBM Applied Data Science Capstone Project"
   ]
  },
  {
   "cell_type": "markdown",
   "metadata": {},
   "source": [
    "#### Introduction/Business Problem"
   ]
  },
  {
   "cell_type": "markdown",
   "metadata": {},
   "source": [
    "Besides being the fourth-most populous metropolitan area in the Americas, the city of Buenos Aires is also very segmented as regards neighborhoods and the socio-economic situation of those who leave in each of them.\n",
    "Accordingly, prices for properties vary greatly.\n",
    "\n",
    "In my capstone project I will try to cross information of venues available in each Neighborhood of the city of Buenos Aires (via Foursquare API) with the Avg Price per square meter on that Neighborhood, in order to identify whether there is a Neighborhood where enough of these venues are missing and Avg Price per square meter is relatively low, so that an opportunity for market penetration is identified.\n",
    "\n",
    "The audience for this report would be entrepreneurs in the city of Buenos Aires, who are trying to identify opportunities to set up a new business where demand is unsatisfied and sunk costs are affordable."
   ]
  },
  {
   "cell_type": "code",
   "execution_count": null,
   "metadata": {},
   "outputs": [],
   "source": []
  }
 ],
 "metadata": {
  "kernelspec": {
   "display_name": "Python 3",
   "language": "python",
   "name": "python3"
  },
  "language_info": {
   "codemirror_mode": {
    "name": "ipython",
    "version": 3
   },
   "file_extension": ".py",
   "mimetype": "text/x-python",
   "name": "python",
   "nbconvert_exporter": "python",
   "pygments_lexer": "ipython3",
   "version": "3.6.6"
  }
 },
 "nbformat": 4,
 "nbformat_minor": 2
}
